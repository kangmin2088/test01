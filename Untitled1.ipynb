{
  "nbformat": 4,
  "nbformat_minor": 0,
  "metadata": {
    "colab": {
      "name": "Untitled1.ipynb",
      "provenance": [],
      "authorship_tag": "ABX9TyNRLyqrmqotHTsRCuVWXYYc",
      "include_colab_link": true
    },
    "kernelspec": {
      "name": "python3",
      "display_name": "Python 3"
    }
  },
  "cells": [
    {
      "cell_type": "markdown",
      "metadata": {
        "id": "view-in-github",
        "colab_type": "text"
      },
      "source": [
        "<a href=\"https://colab.research.google.com/github/kangmin2088/test01/blob/master/Untitled1.ipynb\" target=\"_parent\"><img src=\"https://colab.research.google.com/assets/colab-badge.svg\" alt=\"Open In Colab\"/></a>"
      ]
    },
    {
      "cell_type": "code",
      "metadata": {
        "id": "vPunb72t9DP2",
        "colab_type": "code",
        "colab": {}
      },
      "source": [
        ""
      ],
      "execution_count": 0,
      "outputs": []
    },
    {
      "cell_type": "markdown",
      "metadata": {
        "id": "4ekorjRQ9jPs",
        "colab_type": "text"
      },
      "source": [
        "# 1주차 과제\n",
        "## 언어\n",
        "구글 AI 언어모델 BERT (Bidirectional Encoder Representations from Transformers)  - GLUE(General Language Understanding Evaluation)와 SQuAD(Stanford Question Answering Dataset)에서 인간보다 더 뛰어난 성적을 보여줌. 어텐션(Attention) 기반의 언어모델. 기존 RNN을 대체하고 훨씬 더 능률적으로 언어 능력을 고도화.\n",
        "\n",
        "\n",
        "## 음성\n",
        "텍스트나 음원의 전처리 과정 없이 입력 텍스트로부터 바로 음성을 예측하는 구글의 타코트론(Tacotron) 기반 음성합성기. 전처리 과정이 사라진 음성합성 기술은 텍스트와 음원 사이의 연관성을 AI가 스스로 학습하므로 실제 사람이 말하는 것과 같은 자연스러운 합성 품질을 보였으며, 개발 장벽도 한층 낮아짐. 전이학습(Transfer learning) 활용.\n",
        "\n",
        "## 이미지\n",
        "인셉션을 활용한 이미지 분석 서비스 구글 포토.  이미지 인식 정확도뿐만 아니라 이미지 인식 능력자체도 더 강화. 텐서플로를 활용한 이미지 캡션 기능 오픈소스를 바탕으로 완성된 인공지능. \n",
        "\n",
        "## 자율주행\n",
        " 현대차·기아차가 독자 개발한 SCC-ML. 전방카메라, 레이더 등의 센서가 다양한 운전상황에서 발생되는 정보를 지속적으로 수집해 ADAS의 두뇌격인 제어컴퓨터로 보냄. 제어컴퓨터는 입력된 정보로부터 운전자의 주행습관을 추출해 종합적인 주행성향을 파악. HDA II와 함께 적용돼 자율주행 레벨 2을 넘어선 레벨 2.5 수준을 구현.\n",
        "\n"
      ]
    }
  ]
}